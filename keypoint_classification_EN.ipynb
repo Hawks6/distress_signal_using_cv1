{
 "cells": [
  {
   "cell_type": "code",
   "execution_count": 144,
   "metadata": {
    "id": "igMyGnjE9hEp"
   },
   "outputs": [],
   "source": [
    "import csv\n",
    "\n",
    "import numpy as np\n",
    "import tensorflow as tf\n",
    "from sklearn.model_selection import train_test_split\n",
    "\n",
    "RANDOM_SEED = 42"
   ]
  },
  {
   "cell_type": "markdown",
   "metadata": {
    "id": "t2HDvhIu9hEr"
   },
   "source": [
    "# Specify each path"
   ]
  },
  {
   "cell_type": "code",
   "execution_count": 145,
   "metadata": {
    "id": "9NvZP2Zn9hEy"
   },
   "outputs": [],
   "source": [
    "dataset = 'model/keypoint_classifier/keypoint.csv'\n",
    "model_save_path = 'model/keypoint_classifier/keypoint_classifier.hdf5'\n",
    "tflite_save_path = 'model/keypoint_classifier/keypoint_classifier.tflite'"
   ]
  },
  {
   "cell_type": "markdown",
   "metadata": {
    "id": "s5oMH7x19hEz"
   },
   "source": [
    "# Set number of classes"
   ]
  },
  {
   "cell_type": "code",
   "execution_count": 146,
   "metadata": {
    "id": "du4kodXL9hEz"
   },
   "outputs": [],
   "source": [
    "NUM_CLASSES = 4"
   ]
  },
  {
   "cell_type": "markdown",
   "metadata": {
    "id": "XjnL0uso9hEz"
   },
   "source": [
    "# Dataset reading"
   ]
  },
  {
   "cell_type": "code",
   "execution_count": 147,
   "metadata": {
    "id": "QT5ZqtEz9hE0"
   },
   "outputs": [],
   "source": [
    "X_dataset = np.loadtxt(dataset, delimiter=',', dtype='float32', usecols=list(range(1, (21 * 2) + 1)))"
   ]
  },
  {
   "cell_type": "code",
   "execution_count": 148,
   "metadata": {
    "id": "QmoKFsp49hE0"
   },
   "outputs": [],
   "source": [
    "y_dataset = np.loadtxt(dataset, delimiter=',', dtype='int32', usecols=(0))"
   ]
  },
  {
   "cell_type": "code",
   "execution_count": 149,
   "metadata": {
    "id": "xQU7JTZ_9hE0"
   },
   "outputs": [],
   "source": [
    "X_train, X_test, y_train, y_test = train_test_split(X_dataset, y_dataset, train_size=0.75, random_state=RANDOM_SEED)"
   ]
  },
  {
   "cell_type": "markdown",
   "metadata": {
    "id": "mxK_lETT9hE0"
   },
   "source": [
    "# Model building"
   ]
  },
  {
   "cell_type": "code",
   "execution_count": 150,
   "metadata": {
    "id": "vHBmUf1t9hE1"
   },
   "outputs": [],
   "source": [
    "model = tf.keras.models.Sequential([\n",
    "    tf.keras.layers.Input((21 * 2, )),\n",
    "    tf.keras.layers.Dropout(0.2),\n",
    "    tf.keras.layers.Dense(20, activation='relu'),\n",
    "    tf.keras.layers.Dropout(0.4),\n",
    "    tf.keras.layers.Dense(10, activation='relu'),\n",
    "    tf.keras.layers.Dense(NUM_CLASSES, activation='softmax')\n",
    "])"
   ]
  },
  {
   "cell_type": "code",
   "execution_count": 151,
   "metadata": {
    "colab": {
     "base_uri": "https://localhost:8080/"
    },
    "id": "ypqky9tc9hE1",
    "outputId": "5db082bb-30e3-4110-bf63-a1ee777ecd46"
   },
   "outputs": [
    {
     "name": "stdout",
     "output_type": "stream",
     "text": [
      "Model: \"sequential_7\"\n",
      "_________________________________________________________________\n",
      " Layer (type)                Output Shape              Param #   \n",
      "=================================================================\n",
      " dropout_14 (Dropout)        (None, 42)                0         \n",
      "                                                                 \n",
      " dense_21 (Dense)            (None, 20)                860       \n",
      "                                                                 \n",
      " dropout_15 (Dropout)        (None, 20)                0         \n",
      "                                                                 \n",
      " dense_22 (Dense)            (None, 10)                210       \n",
      "                                                                 \n",
      " dense_23 (Dense)            (None, 4)                 44        \n",
      "                                                                 \n",
      "=================================================================\n",
      "Total params: 1114 (4.35 KB)\n",
      "Trainable params: 1114 (4.35 KB)\n",
      "Non-trainable params: 0 (0.00 Byte)\n",
      "_________________________________________________________________\n"
     ]
    }
   ],
   "source": [
    "model.summary()  # tf.keras.utils.plot_model(model, show_shapes=True)"
   ]
  },
  {
   "cell_type": "code",
   "execution_count": 152,
   "metadata": {
    "id": "MbMjOflQ9hE1"
   },
   "outputs": [],
   "source": [
    "# Model checkpoint callback\n",
    "cp_callback = tf.keras.callbacks.ModelCheckpoint(\n",
    "    model_save_path, verbose=1, save_weights_only=False)\n",
    "# Callback for early stopping\n",
    "es_callback = tf.keras.callbacks.EarlyStopping(patience=20, verbose=1)"
   ]
  },
  {
   "cell_type": "code",
   "execution_count": 153,
   "metadata": {
    "id": "c3Dac0M_9hE2"
   },
   "outputs": [],
   "source": [
    "# Model compilation\n",
    "model.compile(\n",
    "    optimizer='adam',\n",
    "    loss='sparse_categorical_crossentropy',\n",
    "    metrics=['accuracy']\n",
    ")"
   ]
  },
  {
   "cell_type": "markdown",
   "metadata": {
    "id": "7XI0j1Iu9hE2"
   },
   "source": [
    "# Model training"
   ]
  },
  {
   "cell_type": "code",
   "execution_count": 154,
   "metadata": {
    "colab": {
     "base_uri": "https://localhost:8080/"
    },
    "id": "WirBl-JE9hE3",
    "outputId": "71b30ca2-8294-4d9d-8aa2-800d90d399de",
    "scrolled": true
   },
   "outputs": [
    {
     "name": "stdout",
     "output_type": "stream",
     "text": [
      "Epoch 1/1000\n",
      " 1/29 [>.............................] - ETA: 12s - loss: 1.4571 - accuracy: 0.2266\n",
      "Epoch 1: saving model to model/keypoint_classifier\\keypoint_classifier.hdf5\n",
      "29/29 [==============================] - 1s 6ms/step - loss: 1.3686 - accuracy: 0.2935 - val_loss: 1.2687 - val_accuracy: 0.4045\n",
      "Epoch 2/1000\n",
      " 1/29 [>.............................] - ETA: 0s - loss: 1.3479 - accuracy: 0.3516\n",
      "Epoch 2: saving model to model/keypoint_classifier\\keypoint_classifier.hdf5\n",
      "29/29 [==============================] - 0s 3ms/step - loss: 1.2771 - accuracy: 0.3753 - val_loss: 1.1987 - val_accuracy: 0.5163\n",
      "Epoch 3/1000\n",
      " 1/29 [>.............................] - ETA: 0s - loss: 1.2790 - accuracy: 0.3281\n",
      "Epoch 3: saving model to model/keypoint_classifier\\keypoint_classifier.hdf5\n",
      "29/29 [==============================] - 0s 3ms/step - loss: 1.2309 - accuracy: 0.4143 - val_loss: 1.1421 - val_accuracy: 0.5363\n",
      "Epoch 4/1000\n",
      " 1/29 [>.............................] - ETA: 0s - loss: 1.1587 - accuracy: 0.5078"
     ]
    },
    {
     "name": "stderr",
     "output_type": "stream",
     "text": [
      "C:\\Users\\91823\\anaconda3\\lib\\site-packages\\keras\\src\\engine\\training.py:3000: UserWarning: You are saving your model as an HDF5 file via `model.save()`. This file format is considered legacy. We recommend using instead the native Keras format, e.g. `model.save('my_model.keras')`.\n",
      "  saving_api.save_model(\n"
     ]
    },
    {
     "name": "stdout",
     "output_type": "stream",
     "text": [
      "\n",
      "Epoch 4: saving model to model/keypoint_classifier\\keypoint_classifier.hdf5\n",
      "29/29 [==============================] - 0s 3ms/step - loss: 1.1807 - accuracy: 0.4471 - val_loss: 1.0841 - val_accuracy: 0.5813\n",
      "Epoch 5/1000\n",
      " 1/29 [>.............................] - ETA: 0s - loss: 1.1324 - accuracy: 0.4922\n",
      "Epoch 5: saving model to model/keypoint_classifier\\keypoint_classifier.hdf5\n",
      "29/29 [==============================] - 0s 3ms/step - loss: 1.1374 - accuracy: 0.4850 - val_loss: 1.0320 - val_accuracy: 0.6080\n",
      "Epoch 6/1000\n",
      " 1/29 [>.............................] - ETA: 0s - loss: 1.1109 - accuracy: 0.4766\n",
      "Epoch 6: saving model to model/keypoint_classifier\\keypoint_classifier.hdf5\n",
      "29/29 [==============================] - 0s 3ms/step - loss: 1.1038 - accuracy: 0.4933 - val_loss: 0.9727 - val_accuracy: 0.6514\n",
      "Epoch 7/1000\n",
      " 1/29 [>.............................] - ETA: 0s - loss: 1.0819 - accuracy: 0.5469\n",
      "Epoch 7: saving model to model/keypoint_classifier\\keypoint_classifier.hdf5\n",
      "29/29 [==============================] - 0s 3ms/step - loss: 1.0678 - accuracy: 0.5184 - val_loss: 0.9186 - val_accuracy: 0.6931\n",
      "Epoch 8/1000\n",
      " 1/29 [>.............................] - ETA: 0s - loss: 1.0149 - accuracy: 0.5312\n",
      "Epoch 8: saving model to model/keypoint_classifier\\keypoint_classifier.hdf5\n",
      "29/29 [==============================] - 0s 3ms/step - loss: 1.0216 - accuracy: 0.5434 - val_loss: 0.8616 - val_accuracy: 0.7164\n",
      "Epoch 9/1000\n",
      " 1/29 [>.............................] - ETA: 0s - loss: 1.0810 - accuracy: 0.5391\n",
      "Epoch 9: saving model to model/keypoint_classifier\\keypoint_classifier.hdf5\n",
      "29/29 [==============================] - 0s 3ms/step - loss: 1.0012 - accuracy: 0.5626 - val_loss: 0.8185 - val_accuracy: 0.7181\n",
      "Epoch 10/1000\n",
      " 1/29 [>.............................] - ETA: 0s - loss: 0.9538 - accuracy: 0.5781\n",
      "Epoch 10: saving model to model/keypoint_classifier\\keypoint_classifier.hdf5\n",
      "29/29 [==============================] - 0s 3ms/step - loss: 0.9480 - accuracy: 0.5924 - val_loss: 0.7730 - val_accuracy: 0.7223\n",
      "Epoch 11/1000\n",
      " 1/29 [>.............................] - ETA: 0s - loss: 0.8774 - accuracy: 0.6328\n",
      "Epoch 11: saving model to model/keypoint_classifier\\keypoint_classifier.hdf5\n",
      "29/29 [==============================] - 0s 3ms/step - loss: 0.9432 - accuracy: 0.5832 - val_loss: 0.7397 - val_accuracy: 0.7273\n",
      "Epoch 12/1000\n",
      " 1/29 [>.............................] - ETA: 0s - loss: 1.0313 - accuracy: 0.5938\n",
      "Epoch 12: saving model to model/keypoint_classifier\\keypoint_classifier.hdf5\n",
      "29/29 [==============================] - 0s 3ms/step - loss: 0.9235 - accuracy: 0.5843 - val_loss: 0.7074 - val_accuracy: 0.7289\n",
      "Epoch 13/1000\n",
      " 1/29 [>.............................] - ETA: 0s - loss: 0.9635 - accuracy: 0.5312\n",
      "Epoch 13: saving model to model/keypoint_classifier\\keypoint_classifier.hdf5\n",
      "29/29 [==============================] - 0s 3ms/step - loss: 0.8975 - accuracy: 0.5957 - val_loss: 0.6795 - val_accuracy: 0.7356\n",
      "Epoch 14/1000\n",
      " 1/29 [>.............................] - ETA: 0s - loss: 1.0698 - accuracy: 0.5391\n",
      "Epoch 14: saving model to model/keypoint_classifier\\keypoint_classifier.hdf5\n",
      "29/29 [==============================] - 0s 3ms/step - loss: 0.8787 - accuracy: 0.6210 - val_loss: 0.6561 - val_accuracy: 0.7415\n",
      "Epoch 15/1000\n",
      " 1/29 [>.............................] - ETA: 0s - loss: 0.8530 - accuracy: 0.6562\n",
      "Epoch 15: saving model to model/keypoint_classifier\\keypoint_classifier.hdf5\n",
      "29/29 [==============================] - 0s 2ms/step - loss: 0.8651 - accuracy: 0.6235 - val_loss: 0.6332 - val_accuracy: 0.7515\n",
      "Epoch 16/1000\n",
      " 1/29 [>.............................] - ETA: 0s - loss: 0.7707 - accuracy: 0.6953\n",
      "Epoch 16: saving model to model/keypoint_classifier\\keypoint_classifier.hdf5\n",
      "29/29 [==============================] - 0s 2ms/step - loss: 0.8389 - accuracy: 0.6316 - val_loss: 0.6087 - val_accuracy: 0.7473\n",
      "Epoch 17/1000\n",
      " 1/29 [>.............................] - ETA: 0s - loss: 0.8494 - accuracy: 0.5938\n",
      "Epoch 17: saving model to model/keypoint_classifier\\keypoint_classifier.hdf5\n",
      "29/29 [==============================] - 0s 3ms/step - loss: 0.8430 - accuracy: 0.6411 - val_loss: 0.5933 - val_accuracy: 0.7573\n",
      "Epoch 18/1000\n",
      " 1/29 [>.............................] - ETA: 0s - loss: 0.8630 - accuracy: 0.5703\n",
      "Epoch 18: saving model to model/keypoint_classifier\\keypoint_classifier.hdf5\n",
      "29/29 [==============================] - 0s 2ms/step - loss: 0.8254 - accuracy: 0.6497 - val_loss: 0.5831 - val_accuracy: 0.7581\n",
      "Epoch 19/1000\n",
      " 1/29 [>.............................] - ETA: 0s - loss: 0.8670 - accuracy: 0.6016\n",
      "Epoch 19: saving model to model/keypoint_classifier\\keypoint_classifier.hdf5\n",
      "29/29 [==============================] - 0s 3ms/step - loss: 0.8134 - accuracy: 0.6450 - val_loss: 0.5678 - val_accuracy: 0.7823\n",
      "Epoch 20/1000\n",
      " 1/29 [>.............................] - ETA: 0s - loss: 0.7307 - accuracy: 0.6797\n",
      "Epoch 20: saving model to model/keypoint_classifier\\keypoint_classifier.hdf5\n",
      "29/29 [==============================] - 0s 2ms/step - loss: 0.7894 - accuracy: 0.6569 - val_loss: 0.5491 - val_accuracy: 0.7982\n",
      "Epoch 21/1000\n",
      " 1/29 [>.............................] - ETA: 0s - loss: 0.8037 - accuracy: 0.6484\n",
      "Epoch 21: saving model to model/keypoint_classifier\\keypoint_classifier.hdf5\n",
      "29/29 [==============================] - 0s 2ms/step - loss: 0.7838 - accuracy: 0.6617 - val_loss: 0.5379 - val_accuracy: 0.8123\n",
      "Epoch 22/1000\n",
      " 1/29 [>.............................] - ETA: 0s - loss: 0.8468 - accuracy: 0.6562\n",
      "Epoch 22: saving model to model/keypoint_classifier\\keypoint_classifier.hdf5\n",
      "29/29 [==============================] - 0s 2ms/step - loss: 0.7773 - accuracy: 0.6725 - val_loss: 0.5295 - val_accuracy: 0.8148\n",
      "Epoch 23/1000\n",
      " 1/29 [>.............................] - ETA: 0s - loss: 0.7470 - accuracy: 0.6875\n",
      "Epoch 23: saving model to model/keypoint_classifier\\keypoint_classifier.hdf5\n",
      "29/29 [==============================] - 0s 2ms/step - loss: 0.7732 - accuracy: 0.6731 - val_loss: 0.5169 - val_accuracy: 0.8190\n",
      "Epoch 24/1000\n",
      " 1/29 [>.............................] - ETA: 0s - loss: 0.7785 - accuracy: 0.6328\n",
      "Epoch 24: saving model to model/keypoint_classifier\\keypoint_classifier.hdf5\n",
      "29/29 [==============================] - 0s 3ms/step - loss: 0.7704 - accuracy: 0.6711 - val_loss: 0.5054 - val_accuracy: 0.8198\n",
      "Epoch 25/1000\n",
      " 1/29 [>.............................] - ETA: 0s - loss: 0.7401 - accuracy: 0.6953\n",
      "Epoch 25: saving model to model/keypoint_classifier\\keypoint_classifier.hdf5\n",
      "29/29 [==============================] - 0s 3ms/step - loss: 0.7592 - accuracy: 0.6745 - val_loss: 0.4969 - val_accuracy: 0.8190\n",
      "Epoch 26/1000\n",
      " 1/29 [>.............................] - ETA: 0s - loss: 0.9349 - accuracy: 0.6094\n",
      "Epoch 26: saving model to model/keypoint_classifier\\keypoint_classifier.hdf5\n",
      "29/29 [==============================] - 0s 3ms/step - loss: 0.7518 - accuracy: 0.6914 - val_loss: 0.4917 - val_accuracy: 0.8198\n",
      "Epoch 27/1000\n",
      " 1/29 [>.............................] - ETA: 0s - loss: 0.7609 - accuracy: 0.6641\n",
      "Epoch 27: saving model to model/keypoint_classifier\\keypoint_classifier.hdf5\n",
      "29/29 [==============================] - 0s 2ms/step - loss: 0.7689 - accuracy: 0.6681 - val_loss: 0.4923 - val_accuracy: 0.8332\n",
      "Epoch 28/1000\n",
      " 1/29 [>.............................] - ETA: 0s - loss: 0.6856 - accuracy: 0.7344\n",
      "Epoch 28: saving model to model/keypoint_classifier\\keypoint_classifier.hdf5\n",
      "29/29 [==============================] - 0s 2ms/step - loss: 0.7292 - accuracy: 0.6873 - val_loss: 0.4824 - val_accuracy: 0.8399\n",
      "Epoch 29/1000\n",
      " 1/29 [>.............................] - ETA: 0s - loss: 0.7966 - accuracy: 0.6719\n",
      "Epoch 29: saving model to model/keypoint_classifier\\keypoint_classifier.hdf5\n",
      "29/29 [==============================] - 0s 2ms/step - loss: 0.7340 - accuracy: 0.6898 - val_loss: 0.4734 - val_accuracy: 0.8274\n",
      "Epoch 30/1000\n",
      " 1/29 [>.............................] - ETA: 0s - loss: 0.8352 - accuracy: 0.6250\n",
      "Epoch 30: saving model to model/keypoint_classifier\\keypoint_classifier.hdf5\n",
      "29/29 [==============================] - 0s 2ms/step - loss: 0.7165 - accuracy: 0.6917 - val_loss: 0.4676 - val_accuracy: 0.8399\n",
      "Epoch 31/1000\n",
      " 1/29 [>.............................] - ETA: 0s - loss: 0.7519 - accuracy: 0.7188\n",
      "Epoch 31: saving model to model/keypoint_classifier\\keypoint_classifier.hdf5\n"
     ]
    },
    {
     "name": "stdout",
     "output_type": "stream",
     "text": [
      "29/29 [==============================] - 0s 2ms/step - loss: 0.7087 - accuracy: 0.6950 - val_loss: 0.4595 - val_accuracy: 0.8424\n",
      "Epoch 32/1000\n",
      " 1/29 [>.............................] - ETA: 0s - loss: 0.7015 - accuracy: 0.6953\n",
      "Epoch 32: saving model to model/keypoint_classifier\\keypoint_classifier.hdf5\n",
      "29/29 [==============================] - 0s 2ms/step - loss: 0.7254 - accuracy: 0.7034 - val_loss: 0.4573 - val_accuracy: 0.8424\n",
      "Epoch 33/1000\n",
      " 1/29 [>.............................] - ETA: 0s - loss: 0.6476 - accuracy: 0.7188\n",
      "Epoch 33: saving model to model/keypoint_classifier\\keypoint_classifier.hdf5\n",
      "29/29 [==============================] - 0s 2ms/step - loss: 0.7163 - accuracy: 0.6934 - val_loss: 0.4483 - val_accuracy: 0.8449\n",
      "Epoch 34/1000\n",
      " 1/29 [>.............................] - ETA: 0s - loss: 0.7203 - accuracy: 0.7344\n",
      "Epoch 34: saving model to model/keypoint_classifier\\keypoint_classifier.hdf5\n",
      "29/29 [==============================] - 0s 3ms/step - loss: 0.7065 - accuracy: 0.7042 - val_loss: 0.4401 - val_accuracy: 0.8490\n",
      "Epoch 35/1000\n",
      " 1/29 [>.............................] - ETA: 0s - loss: 0.7053 - accuracy: 0.6797\n",
      "Epoch 35: saving model to model/keypoint_classifier\\keypoint_classifier.hdf5\n",
      "29/29 [==============================] - 0s 2ms/step - loss: 0.6984 - accuracy: 0.7109 - val_loss: 0.4335 - val_accuracy: 0.8524\n",
      "Epoch 36/1000\n",
      " 1/29 [>.............................] - ETA: 0s - loss: 0.6617 - accuracy: 0.7734\n",
      "Epoch 36: saving model to model/keypoint_classifier\\keypoint_classifier.hdf5\n",
      "29/29 [==============================] - 0s 2ms/step - loss: 0.7104 - accuracy: 0.6976 - val_loss: 0.4343 - val_accuracy: 0.8490\n",
      "Epoch 37/1000\n",
      " 1/29 [>.............................] - ETA: 0s - loss: 0.8329 - accuracy: 0.7109\n",
      "Epoch 37: saving model to model/keypoint_classifier\\keypoint_classifier.hdf5\n",
      "29/29 [==============================] - 0s 2ms/step - loss: 0.6782 - accuracy: 0.7170 - val_loss: 0.4277 - val_accuracy: 0.8590\n",
      "Epoch 38/1000\n",
      " 1/29 [>.............................] - ETA: 0s - loss: 0.6505 - accuracy: 0.6875\n",
      "Epoch 38: saving model to model/keypoint_classifier\\keypoint_classifier.hdf5\n",
      "29/29 [==============================] - 0s 2ms/step - loss: 0.6837 - accuracy: 0.7112 - val_loss: 0.4171 - val_accuracy: 0.8582\n",
      "Epoch 39/1000\n",
      " 1/29 [>.............................] - ETA: 0s - loss: 0.7288 - accuracy: 0.7031\n",
      "Epoch 39: saving model to model/keypoint_classifier\\keypoint_classifier.hdf5\n",
      "29/29 [==============================] - 0s 2ms/step - loss: 0.6878 - accuracy: 0.7176 - val_loss: 0.4129 - val_accuracy: 0.8641\n",
      "Epoch 40/1000\n",
      " 1/29 [>.............................] - ETA: 0s - loss: 0.5629 - accuracy: 0.7734\n",
      "Epoch 40: saving model to model/keypoint_classifier\\keypoint_classifier.hdf5\n",
      "29/29 [==============================] - 0s 2ms/step - loss: 0.6678 - accuracy: 0.7287 - val_loss: 0.4042 - val_accuracy: 0.8691\n",
      "Epoch 41/1000\n",
      " 1/29 [>.............................] - ETA: 0s - loss: 0.6641 - accuracy: 0.7500\n",
      "Epoch 41: saving model to model/keypoint_classifier\\keypoint_classifier.hdf5\n",
      "29/29 [==============================] - 0s 3ms/step - loss: 0.6721 - accuracy: 0.7190 - val_loss: 0.4056 - val_accuracy: 0.8590\n",
      "Epoch 42/1000\n",
      " 1/29 [>.............................] - ETA: 0s - loss: 0.6512 - accuracy: 0.6875\n",
      "Epoch 42: saving model to model/keypoint_classifier\\keypoint_classifier.hdf5\n",
      "29/29 [==============================] - 0s 2ms/step - loss: 0.6687 - accuracy: 0.7245 - val_loss: 0.4020 - val_accuracy: 0.8682\n",
      "Epoch 43/1000\n",
      " 1/29 [>.............................] - ETA: 0s - loss: 0.5675 - accuracy: 0.7812\n",
      "Epoch 43: saving model to model/keypoint_classifier\\keypoint_classifier.hdf5\n",
      "29/29 [==============================] - 0s 2ms/step - loss: 0.6571 - accuracy: 0.7334 - val_loss: 0.3927 - val_accuracy: 0.8782\n",
      "Epoch 44/1000\n",
      " 1/29 [>.............................] - ETA: 0s - loss: 0.7623 - accuracy: 0.6484\n",
      "Epoch 44: saving model to model/keypoint_classifier\\keypoint_classifier.hdf5\n",
      "29/29 [==============================] - 0s 2ms/step - loss: 0.6737 - accuracy: 0.7145 - val_loss: 0.3944 - val_accuracy: 0.8666\n",
      "Epoch 45/1000\n",
      " 1/29 [>.............................] - ETA: 0s - loss: 0.4729 - accuracy: 0.8125\n",
      "Epoch 45: saving model to model/keypoint_classifier\\keypoint_classifier.hdf5\n",
      "29/29 [==============================] - 0s 2ms/step - loss: 0.6730 - accuracy: 0.7131 - val_loss: 0.3925 - val_accuracy: 0.8699\n",
      "Epoch 46/1000\n",
      " 1/29 [>.............................] - ETA: 0s - loss: 0.5917 - accuracy: 0.7656\n",
      "Epoch 46: saving model to model/keypoint_classifier\\keypoint_classifier.hdf5\n",
      "29/29 [==============================] - 0s 2ms/step - loss: 0.6576 - accuracy: 0.7340 - val_loss: 0.3907 - val_accuracy: 0.8691\n",
      "Epoch 47/1000\n",
      " 1/29 [>.............................] - ETA: 0s - loss: 0.5822 - accuracy: 0.7578\n",
      "Epoch 47: saving model to model/keypoint_classifier\\keypoint_classifier.hdf5\n",
      "29/29 [==============================] - 0s 2ms/step - loss: 0.6769 - accuracy: 0.7176 - val_loss: 0.3878 - val_accuracy: 0.8816\n",
      "Epoch 48/1000\n",
      " 1/29 [>.............................] - ETA: 0s - loss: 0.7062 - accuracy: 0.7266\n",
      "Epoch 48: saving model to model/keypoint_classifier\\keypoint_classifier.hdf5\n",
      "29/29 [==============================] - 0s 3ms/step - loss: 0.6465 - accuracy: 0.7315 - val_loss: 0.3836 - val_accuracy: 0.8741\n",
      "Epoch 49/1000\n",
      " 1/29 [>.............................] - ETA: 0s - loss: 0.6117 - accuracy: 0.7344\n",
      "Epoch 49: saving model to model/keypoint_classifier\\keypoint_classifier.hdf5\n",
      "29/29 [==============================] - 0s 2ms/step - loss: 0.6471 - accuracy: 0.7359 - val_loss: 0.3770 - val_accuracy: 0.8766\n",
      "Epoch 50/1000\n",
      " 1/29 [>.............................] - ETA: 0s - loss: 0.5899 - accuracy: 0.7812\n",
      "Epoch 50: saving model to model/keypoint_classifier\\keypoint_classifier.hdf5\n",
      "29/29 [==============================] - 0s 2ms/step - loss: 0.6601 - accuracy: 0.7307 - val_loss: 0.3770 - val_accuracy: 0.8749\n",
      "Epoch 51/1000\n",
      " 1/29 [>.............................] - ETA: 0s - loss: 0.5637 - accuracy: 0.7734\n",
      "Epoch 51: saving model to model/keypoint_classifier\\keypoint_classifier.hdf5\n",
      "29/29 [==============================] - 0s 2ms/step - loss: 0.6426 - accuracy: 0.7340 - val_loss: 0.3753 - val_accuracy: 0.8957\n",
      "Epoch 52/1000\n",
      " 1/29 [>.............................] - ETA: 0s - loss: 0.6199 - accuracy: 0.7578\n",
      "Epoch 52: saving model to model/keypoint_classifier\\keypoint_classifier.hdf5\n",
      "29/29 [==============================] - 0s 2ms/step - loss: 0.6313 - accuracy: 0.7382 - val_loss: 0.3683 - val_accuracy: 0.8824\n",
      "Epoch 53/1000\n",
      " 1/29 [>.............................] - ETA: 0s - loss: 0.5605 - accuracy: 0.7188\n",
      "Epoch 53: saving model to model/keypoint_classifier\\keypoint_classifier.hdf5\n",
      "29/29 [==============================] - 0s 2ms/step - loss: 0.6395 - accuracy: 0.7398 - val_loss: 0.3678 - val_accuracy: 0.8824\n",
      "Epoch 54/1000\n",
      " 1/29 [>.............................] - ETA: 0s - loss: 0.6219 - accuracy: 0.7344\n",
      "Epoch 54: saving model to model/keypoint_classifier\\keypoint_classifier.hdf5\n",
      "29/29 [==============================] - 0s 2ms/step - loss: 0.6402 - accuracy: 0.7362 - val_loss: 0.3624 - val_accuracy: 0.8891\n",
      "Epoch 55/1000\n",
      " 1/29 [>.............................] - ETA: 0s - loss: 0.6385 - accuracy: 0.7266\n",
      "Epoch 55: saving model to model/keypoint_classifier\\keypoint_classifier.hdf5\n",
      "29/29 [==============================] - 0s 2ms/step - loss: 0.6304 - accuracy: 0.7332 - val_loss: 0.3601 - val_accuracy: 0.8841\n",
      "Epoch 56/1000\n",
      " 1/29 [>.............................] - ETA: 0s - loss: 0.6019 - accuracy: 0.7344\n",
      "Epoch 56: saving model to model/keypoint_classifier\\keypoint_classifier.hdf5\n",
      "29/29 [==============================] - 0s 2ms/step - loss: 0.6293 - accuracy: 0.7393 - val_loss: 0.3578 - val_accuracy: 0.8824\n",
      "Epoch 57/1000\n",
      " 1/29 [>.............................] - ETA: 0s - loss: 0.4866 - accuracy: 0.7891\n",
      "Epoch 57: saving model to model/keypoint_classifier\\keypoint_classifier.hdf5\n",
      "29/29 [==============================] - 0s 2ms/step - loss: 0.6349 - accuracy: 0.7379 - val_loss: 0.3567 - val_accuracy: 0.8899\n",
      "Epoch 58/1000\n",
      " 1/29 [>.............................] - ETA: 0s - loss: 0.6338 - accuracy: 0.7422\n",
      "Epoch 58: saving model to model/keypoint_classifier\\keypoint_classifier.hdf5\n",
      "29/29 [==============================] - 0s 3ms/step - loss: 0.6570 - accuracy: 0.7287 - val_loss: 0.3555 - val_accuracy: 0.8932\n"
     ]
    },
    {
     "name": "stdout",
     "output_type": "stream",
     "text": [
      "Epoch 59/1000\n",
      " 1/29 [>.............................] - ETA: 0s - loss: 0.6124 - accuracy: 0.7500\n",
      "Epoch 59: saving model to model/keypoint_classifier\\keypoint_classifier.hdf5\n",
      "29/29 [==============================] - 0s 2ms/step - loss: 0.6115 - accuracy: 0.7507 - val_loss: 0.3468 - val_accuracy: 0.8974\n",
      "Epoch 60/1000\n",
      " 1/29 [>.............................] - ETA: 0s - loss: 0.6313 - accuracy: 0.7734\n",
      "Epoch 60: saving model to model/keypoint_classifier\\keypoint_classifier.hdf5\n",
      "29/29 [==============================] - 0s 2ms/step - loss: 0.6352 - accuracy: 0.7346 - val_loss: 0.3518 - val_accuracy: 0.8874\n",
      "Epoch 61/1000\n",
      " 1/29 [>.............................] - ETA: 0s - loss: 0.5702 - accuracy: 0.7031\n",
      "Epoch 61: saving model to model/keypoint_classifier\\keypoint_classifier.hdf5\n",
      "29/29 [==============================] - 0s 2ms/step - loss: 0.6190 - accuracy: 0.7479 - val_loss: 0.3500 - val_accuracy: 0.8882\n",
      "Epoch 62/1000\n",
      " 1/29 [>.............................] - ETA: 0s - loss: 0.6452 - accuracy: 0.6953\n",
      "Epoch 62: saving model to model/keypoint_classifier\\keypoint_classifier.hdf5\n",
      "29/29 [==============================] - 0s 2ms/step - loss: 0.6310 - accuracy: 0.7365 - val_loss: 0.3466 - val_accuracy: 0.8882\n",
      "Epoch 63/1000\n",
      " 1/29 [>.............................] - ETA: 0s - loss: 0.5093 - accuracy: 0.7969\n",
      "Epoch 63: saving model to model/keypoint_classifier\\keypoint_classifier.hdf5\n",
      "29/29 [==============================] - 0s 2ms/step - loss: 0.6233 - accuracy: 0.7471 - val_loss: 0.3420 - val_accuracy: 0.8957\n",
      "Epoch 64/1000\n",
      " 1/29 [>.............................] - ETA: 0s - loss: 0.6734 - accuracy: 0.7109\n",
      "Epoch 64: saving model to model/keypoint_classifier\\keypoint_classifier.hdf5\n",
      "29/29 [==============================] - 0s 2ms/step - loss: 0.6243 - accuracy: 0.7437 - val_loss: 0.3364 - val_accuracy: 0.9041\n",
      "Epoch 65/1000\n",
      " 1/29 [>.............................] - ETA: 0s - loss: 0.5612 - accuracy: 0.8203\n",
      "Epoch 65: saving model to model/keypoint_classifier\\keypoint_classifier.hdf5\n",
      "29/29 [==============================] - 0s 2ms/step - loss: 0.6087 - accuracy: 0.7510 - val_loss: 0.3353 - val_accuracy: 0.8966\n",
      "Epoch 66/1000\n",
      " 1/29 [>.............................] - ETA: 0s - loss: 0.4971 - accuracy: 0.8047\n",
      "Epoch 66: saving model to model/keypoint_classifier\\keypoint_classifier.hdf5\n",
      "29/29 [==============================] - 0s 2ms/step - loss: 0.6072 - accuracy: 0.7540 - val_loss: 0.3335 - val_accuracy: 0.8974\n",
      "Epoch 67/1000\n",
      " 1/29 [>.............................] - ETA: 0s - loss: 0.4768 - accuracy: 0.8281\n",
      "Epoch 67: saving model to model/keypoint_classifier\\keypoint_classifier.hdf5\n",
      "29/29 [==============================] - 0s 2ms/step - loss: 0.6162 - accuracy: 0.7446 - val_loss: 0.3370 - val_accuracy: 0.8966\n",
      "Epoch 68/1000\n",
      " 1/29 [>.............................] - ETA: 0s - loss: 0.5399 - accuracy: 0.7812\n",
      "Epoch 68: saving model to model/keypoint_classifier\\keypoint_classifier.hdf5\n",
      "29/29 [==============================] - 0s 3ms/step - loss: 0.5994 - accuracy: 0.7574 - val_loss: 0.3318 - val_accuracy: 0.8982\n",
      "Epoch 69/1000\n",
      " 1/29 [>.............................] - ETA: 0s - loss: 0.4983 - accuracy: 0.7969\n",
      "Epoch 69: saving model to model/keypoint_classifier\\keypoint_classifier.hdf5\n",
      "29/29 [==============================] - 0s 2ms/step - loss: 0.6170 - accuracy: 0.7476 - val_loss: 0.3343 - val_accuracy: 0.9024\n",
      "Epoch 70/1000\n",
      " 1/29 [>.............................] - ETA: 0s - loss: 0.4954 - accuracy: 0.8281\n",
      "Epoch 70: saving model to model/keypoint_classifier\\keypoint_classifier.hdf5\n",
      "29/29 [==============================] - 0s 2ms/step - loss: 0.5833 - accuracy: 0.7721 - val_loss: 0.3298 - val_accuracy: 0.8982\n",
      "Epoch 71/1000\n",
      " 1/29 [>.............................] - ETA: 0s - loss: 0.5609 - accuracy: 0.7578\n",
      "Epoch 71: saving model to model/keypoint_classifier\\keypoint_classifier.hdf5\n",
      "29/29 [==============================] - 0s 3ms/step - loss: 0.5954 - accuracy: 0.7618 - val_loss: 0.3234 - val_accuracy: 0.9024\n",
      "Epoch 72/1000\n",
      " 1/29 [>.............................] - ETA: 0s - loss: 0.7275 - accuracy: 0.7266\n",
      "Epoch 72: saving model to model/keypoint_classifier\\keypoint_classifier.hdf5\n",
      "29/29 [==============================] - 0s 2ms/step - loss: 0.5948 - accuracy: 0.7557 - val_loss: 0.3237 - val_accuracy: 0.8982\n",
      "Epoch 73/1000\n",
      " 1/29 [>.............................] - ETA: 0s - loss: 0.5902 - accuracy: 0.7188\n",
      "Epoch 73: saving model to model/keypoint_classifier\\keypoint_classifier.hdf5\n",
      "29/29 [==============================] - 0s 2ms/step - loss: 0.5980 - accuracy: 0.7551 - val_loss: 0.3226 - val_accuracy: 0.8999\n",
      "Epoch 74/1000\n",
      " 1/29 [>.............................] - ETA: 0s - loss: 0.6581 - accuracy: 0.6953\n",
      "Epoch 74: saving model to model/keypoint_classifier\\keypoint_classifier.hdf5\n",
      "29/29 [==============================] - 0s 2ms/step - loss: 0.6125 - accuracy: 0.7540 - val_loss: 0.3178 - val_accuracy: 0.9049\n",
      "Epoch 75/1000\n",
      " 1/29 [>.............................] - ETA: 0s - loss: 0.5722 - accuracy: 0.7656\n",
      "Epoch 75: saving model to model/keypoint_classifier\\keypoint_classifier.hdf5\n",
      "29/29 [==============================] - 0s 2ms/step - loss: 0.5798 - accuracy: 0.7668 - val_loss: 0.3156 - val_accuracy: 0.8941\n",
      "Epoch 76/1000\n",
      " 1/29 [>.............................] - ETA: 0s - loss: 0.6648 - accuracy: 0.7188\n",
      "Epoch 76: saving model to model/keypoint_classifier\\keypoint_classifier.hdf5\n",
      "29/29 [==============================] - 0s 2ms/step - loss: 0.6138 - accuracy: 0.7485 - val_loss: 0.3156 - val_accuracy: 0.9033\n",
      "Epoch 77/1000\n",
      " 1/29 [>.............................] - ETA: 0s - loss: 0.6145 - accuracy: 0.7109\n",
      "Epoch 77: saving model to model/keypoint_classifier\\keypoint_classifier.hdf5\n",
      "29/29 [==============================] - 0s 2ms/step - loss: 0.5933 - accuracy: 0.7599 - val_loss: 0.3167 - val_accuracy: 0.9016\n",
      "Epoch 78/1000\n",
      " 1/29 [>.............................] - ETA: 0s - loss: 0.6379 - accuracy: 0.6953\n",
      "Epoch 78: saving model to model/keypoint_classifier\\keypoint_classifier.hdf5\n",
      "29/29 [==============================] - 0s 2ms/step - loss: 0.5920 - accuracy: 0.7577 - val_loss: 0.3151 - val_accuracy: 0.9049\n",
      "Epoch 79/1000\n",
      " 1/29 [>.............................] - ETA: 0s - loss: 0.6328 - accuracy: 0.7500\n",
      "Epoch 79: saving model to model/keypoint_classifier\\keypoint_classifier.hdf5\n",
      "29/29 [==============================] - 0s 2ms/step - loss: 0.5892 - accuracy: 0.7618 - val_loss: 0.3123 - val_accuracy: 0.9141\n",
      "Epoch 80/1000\n",
      " 1/29 [>.............................] - ETA: 0s - loss: 0.5017 - accuracy: 0.7109\n",
      "Epoch 80: saving model to model/keypoint_classifier\\keypoint_classifier.hdf5\n",
      "29/29 [==============================] - 0s 3ms/step - loss: 0.5873 - accuracy: 0.7563 - val_loss: 0.3124 - val_accuracy: 0.9108\n",
      "Epoch 81/1000\n",
      " 1/29 [>.............................] - ETA: 0s - loss: 0.5770 - accuracy: 0.7109\n",
      "Epoch 81: saving model to model/keypoint_classifier\\keypoint_classifier.hdf5\n",
      "29/29 [==============================] - 0s 2ms/step - loss: 0.6110 - accuracy: 0.7535 - val_loss: 0.3106 - val_accuracy: 0.9116\n",
      "Epoch 82/1000\n",
      " 1/29 [>.............................] - ETA: 0s - loss: 0.6598 - accuracy: 0.7500\n",
      "Epoch 82: saving model to model/keypoint_classifier\\keypoint_classifier.hdf5\n",
      "29/29 [==============================] - 0s 2ms/step - loss: 0.5969 - accuracy: 0.7577 - val_loss: 0.3133 - val_accuracy: 0.9091\n",
      "Epoch 83/1000\n",
      " 1/29 [>.............................] - ETA: 0s - loss: 0.7127 - accuracy: 0.6719\n",
      "Epoch 83: saving model to model/keypoint_classifier\\keypoint_classifier.hdf5\n",
      "29/29 [==============================] - 0s 2ms/step - loss: 0.5975 - accuracy: 0.7577 - val_loss: 0.3135 - val_accuracy: 0.9158\n",
      "Epoch 84/1000\n",
      " 1/29 [>.............................] - ETA: 0s - loss: 0.6405 - accuracy: 0.7422\n",
      "Epoch 84: saving model to model/keypoint_classifier\\keypoint_classifier.hdf5\n",
      "29/29 [==============================] - 0s 2ms/step - loss: 0.5989 - accuracy: 0.7535 - val_loss: 0.3126 - val_accuracy: 0.9099\n",
      "Epoch 85/1000\n",
      " 1/29 [>.............................] - ETA: 0s - loss: 0.6634 - accuracy: 0.6953\n",
      "Epoch 85: saving model to model/keypoint_classifier\\keypoint_classifier.hdf5\n",
      "29/29 [==============================] - 0s 3ms/step - loss: 0.5904 - accuracy: 0.7666 - val_loss: 0.3085 - val_accuracy: 0.9074\n",
      "Epoch 86/1000\n"
     ]
    },
    {
     "name": "stdout",
     "output_type": "stream",
     "text": [
      " 1/29 [>.............................] - ETA: 0s - loss: 0.5226 - accuracy: 0.7734\n",
      "Epoch 86: saving model to model/keypoint_classifier\\keypoint_classifier.hdf5\n",
      "29/29 [==============================] - 0s 3ms/step - loss: 0.5873 - accuracy: 0.7643 - val_loss: 0.3100 - val_accuracy: 0.9074\n",
      "Epoch 87/1000\n",
      " 1/29 [>.............................] - ETA: 0s - loss: 0.6718 - accuracy: 0.7188\n",
      "Epoch 87: saving model to model/keypoint_classifier\\keypoint_classifier.hdf5\n",
      "29/29 [==============================] - 0s 2ms/step - loss: 0.5895 - accuracy: 0.7596 - val_loss: 0.3057 - val_accuracy: 0.9149\n",
      "Epoch 88/1000\n",
      " 1/29 [>.............................] - ETA: 0s - loss: 0.6700 - accuracy: 0.7031\n",
      "Epoch 88: saving model to model/keypoint_classifier\\keypoint_classifier.hdf5\n",
      "29/29 [==============================] - 0s 2ms/step - loss: 0.5596 - accuracy: 0.7810 - val_loss: 0.3005 - val_accuracy: 0.9149\n",
      "Epoch 89/1000\n",
      " 1/29 [>.............................] - ETA: 0s - loss: 0.5220 - accuracy: 0.8047\n",
      "Epoch 89: saving model to model/keypoint_classifier\\keypoint_classifier.hdf5\n",
      "29/29 [==============================] - 0s 2ms/step - loss: 0.6081 - accuracy: 0.7551 - val_loss: 0.3044 - val_accuracy: 0.9116\n",
      "Epoch 90/1000\n",
      " 1/29 [>.............................] - ETA: 0s - loss: 0.6095 - accuracy: 0.7656\n",
      "Epoch 90: saving model to model/keypoint_classifier\\keypoint_classifier.hdf5\n",
      "29/29 [==============================] - 0s 2ms/step - loss: 0.5899 - accuracy: 0.7596 - val_loss: 0.3044 - val_accuracy: 0.9149\n",
      "Epoch 91/1000\n",
      " 1/29 [>.............................] - ETA: 0s - loss: 0.4975 - accuracy: 0.8047\n",
      "Epoch 91: saving model to model/keypoint_classifier\\keypoint_classifier.hdf5\n",
      "29/29 [==============================] - 0s 2ms/step - loss: 0.5787 - accuracy: 0.7607 - val_loss: 0.3056 - val_accuracy: 0.9116\n",
      "Epoch 92/1000\n",
      " 1/29 [>.............................] - ETA: 0s - loss: 0.5417 - accuracy: 0.7578\n",
      "Epoch 92: saving model to model/keypoint_classifier\\keypoint_classifier.hdf5\n",
      "29/29 [==============================] - 0s 2ms/step - loss: 0.5636 - accuracy: 0.7716 - val_loss: 0.3041 - val_accuracy: 0.9108\n",
      "Epoch 93/1000\n",
      " 1/29 [>.............................] - ETA: 0s - loss: 0.5287 - accuracy: 0.7656\n",
      "Epoch 93: saving model to model/keypoint_classifier\\keypoint_classifier.hdf5\n",
      "29/29 [==============================] - 0s 2ms/step - loss: 0.5698 - accuracy: 0.7693 - val_loss: 0.2978 - val_accuracy: 0.9174\n",
      "Epoch 94/1000\n",
      " 1/29 [>.............................] - ETA: 0s - loss: 0.5812 - accuracy: 0.7578\n",
      "Epoch 94: saving model to model/keypoint_classifier\\keypoint_classifier.hdf5\n",
      "29/29 [==============================] - 0s 2ms/step - loss: 0.5772 - accuracy: 0.7674 - val_loss: 0.2965 - val_accuracy: 0.9191\n",
      "Epoch 95/1000\n",
      " 1/29 [>.............................] - ETA: 0s - loss: 0.6193 - accuracy: 0.7656\n",
      "Epoch 95: saving model to model/keypoint_classifier\\keypoint_classifier.hdf5\n",
      "29/29 [==============================] - 0s 3ms/step - loss: 0.5844 - accuracy: 0.7679 - val_loss: 0.2981 - val_accuracy: 0.9158\n",
      "Epoch 96/1000\n",
      " 1/29 [>.............................] - ETA: 0s - loss: 0.5474 - accuracy: 0.7734\n",
      "Epoch 96: saving model to model/keypoint_classifier\\keypoint_classifier.hdf5\n",
      "29/29 [==============================] - 0s 3ms/step - loss: 0.5618 - accuracy: 0.7766 - val_loss: 0.2904 - val_accuracy: 0.9166\n",
      "Epoch 97/1000\n",
      " 1/29 [>.............................] - ETA: 0s - loss: 0.4669 - accuracy: 0.8359\n",
      "Epoch 97: saving model to model/keypoint_classifier\\keypoint_classifier.hdf5\n",
      "29/29 [==============================] - 0s 2ms/step - loss: 0.5809 - accuracy: 0.7624 - val_loss: 0.2918 - val_accuracy: 0.9141\n",
      "Epoch 98/1000\n",
      " 1/29 [>.............................] - ETA: 0s - loss: 0.5634 - accuracy: 0.7656\n",
      "Epoch 98: saving model to model/keypoint_classifier\\keypoint_classifier.hdf5\n",
      "29/29 [==============================] - 0s 2ms/step - loss: 0.5867 - accuracy: 0.7621 - val_loss: 0.2955 - val_accuracy: 0.9183\n",
      "Epoch 99/1000\n",
      " 1/29 [>.............................] - ETA: 0s - loss: 0.5295 - accuracy: 0.7578\n",
      "Epoch 99: saving model to model/keypoint_classifier\\keypoint_classifier.hdf5\n",
      "29/29 [==============================] - 0s 2ms/step - loss: 0.5645 - accuracy: 0.7716 - val_loss: 0.2902 - val_accuracy: 0.9149\n",
      "Epoch 100/1000\n",
      " 1/29 [>.............................] - ETA: 0s - loss: 0.5228 - accuracy: 0.8281\n",
      "Epoch 100: saving model to model/keypoint_classifier\\keypoint_classifier.hdf5\n",
      "29/29 [==============================] - 0s 2ms/step - loss: 0.5541 - accuracy: 0.7877 - val_loss: 0.2886 - val_accuracy: 0.9233\n",
      "Epoch 101/1000\n",
      " 1/29 [>.............................] - ETA: 0s - loss: 0.5871 - accuracy: 0.7500\n",
      "Epoch 101: saving model to model/keypoint_classifier\\keypoint_classifier.hdf5\n",
      "29/29 [==============================] - 0s 2ms/step - loss: 0.5499 - accuracy: 0.7846 - val_loss: 0.2830 - val_accuracy: 0.9233\n",
      "Epoch 102/1000\n",
      " 1/29 [>.............................] - ETA: 0s - loss: 0.4276 - accuracy: 0.7969\n",
      "Epoch 102: saving model to model/keypoint_classifier\\keypoint_classifier.hdf5\n",
      "29/29 [==============================] - 0s 2ms/step - loss: 0.5574 - accuracy: 0.7746 - val_loss: 0.2834 - val_accuracy: 0.9199\n",
      "Epoch 103/1000\n",
      " 1/29 [>.............................] - ETA: 0s - loss: 0.5277 - accuracy: 0.7656\n",
      "Epoch 103: saving model to model/keypoint_classifier\\keypoint_classifier.hdf5\n",
      "29/29 [==============================] - 0s 2ms/step - loss: 0.5797 - accuracy: 0.7624 - val_loss: 0.2848 - val_accuracy: 0.9208\n",
      "Epoch 104/1000\n",
      " 1/29 [>.............................] - ETA: 0s - loss: 0.5332 - accuracy: 0.7656\n",
      "Epoch 104: saving model to model/keypoint_classifier\\keypoint_classifier.hdf5\n",
      "29/29 [==============================] - 0s 2ms/step - loss: 0.5807 - accuracy: 0.7666 - val_loss: 0.2870 - val_accuracy: 0.9174\n",
      "Epoch 105/1000\n",
      " 1/29 [>.............................] - ETA: 0s - loss: 0.5241 - accuracy: 0.8047\n",
      "Epoch 105: saving model to model/keypoint_classifier\\keypoint_classifier.hdf5\n",
      "29/29 [==============================] - 0s 3ms/step - loss: 0.5508 - accuracy: 0.7827 - val_loss: 0.2827 - val_accuracy: 0.9366\n",
      "Epoch 106/1000\n",
      " 1/29 [>.............................] - ETA: 0s - loss: 0.5215 - accuracy: 0.7656\n",
      "Epoch 106: saving model to model/keypoint_classifier\\keypoint_classifier.hdf5\n",
      "29/29 [==============================] - 0s 3ms/step - loss: 0.5680 - accuracy: 0.7749 - val_loss: 0.2822 - val_accuracy: 0.9258\n",
      "Epoch 107/1000\n",
      " 1/29 [>.............................] - ETA: 0s - loss: 0.5393 - accuracy: 0.7891\n",
      "Epoch 107: saving model to model/keypoint_classifier\\keypoint_classifier.hdf5\n",
      "29/29 [==============================] - 0s 3ms/step - loss: 0.5545 - accuracy: 0.7757 - val_loss: 0.2819 - val_accuracy: 0.9233\n",
      "Epoch 108/1000\n",
      " 1/29 [>.............................] - ETA: 0s - loss: 0.5167 - accuracy: 0.8438\n",
      "Epoch 108: saving model to model/keypoint_classifier\\keypoint_classifier.hdf5\n",
      "29/29 [==============================] - 0s 3ms/step - loss: 0.5749 - accuracy: 0.7738 - val_loss: 0.2853 - val_accuracy: 0.9349\n",
      "Epoch 109/1000\n",
      " 1/29 [>.............................] - ETA: 0s - loss: 0.5673 - accuracy: 0.7891\n",
      "Epoch 109: saving model to model/keypoint_classifier\\keypoint_classifier.hdf5\n",
      "29/29 [==============================] - 0s 3ms/step - loss: 0.5596 - accuracy: 0.7691 - val_loss: 0.2814 - val_accuracy: 0.9333\n",
      "Epoch 110/1000\n",
      " 1/29 [>.............................] - ETA: 0s - loss: 0.6828 - accuracy: 0.7031\n",
      "Epoch 110: saving model to model/keypoint_classifier\\keypoint_classifier.hdf5\n",
      "29/29 [==============================] - 0s 2ms/step - loss: 0.5655 - accuracy: 0.7735 - val_loss: 0.2786 - val_accuracy: 0.9349\n",
      "Epoch 111/1000\n",
      " 1/29 [>.............................] - ETA: 0s - loss: 0.5354 - accuracy: 0.7734\n",
      "Epoch 111: saving model to model/keypoint_classifier\\keypoint_classifier.hdf5\n",
      "29/29 [==============================] - 0s 3ms/step - loss: 0.5684 - accuracy: 0.7727 - val_loss: 0.2794 - val_accuracy: 0.9316\n",
      "Epoch 112/1000\n",
      " 1/29 [>.............................] - ETA: 0s - loss: 0.5362 - accuracy: 0.7891\n",
      "Epoch 112: saving model to model/keypoint_classifier\\keypoint_classifier.hdf5\n",
      "29/29 [==============================] - 0s 3ms/step - loss: 0.5549 - accuracy: 0.7746 - val_loss: 0.2815 - val_accuracy: 0.9258\n"
     ]
    },
    {
     "name": "stdout",
     "output_type": "stream",
     "text": [
      "Epoch 113/1000\n",
      " 1/29 [>.............................] - ETA: 0s - loss: 0.6046 - accuracy: 0.7422\n",
      "Epoch 113: saving model to model/keypoint_classifier\\keypoint_classifier.hdf5\n",
      "29/29 [==============================] - 0s 3ms/step - loss: 0.5833 - accuracy: 0.7596 - val_loss: 0.2781 - val_accuracy: 0.9399\n",
      "Epoch 114/1000\n",
      " 1/29 [>.............................] - ETA: 0s - loss: 0.4157 - accuracy: 0.8281\n",
      "Epoch 114: saving model to model/keypoint_classifier\\keypoint_classifier.hdf5\n",
      "29/29 [==============================] - 0s 3ms/step - loss: 0.5564 - accuracy: 0.7699 - val_loss: 0.2783 - val_accuracy: 0.9333\n",
      "Epoch 115/1000\n",
      " 1/29 [>.............................] - ETA: 0s - loss: 0.5339 - accuracy: 0.8047\n",
      "Epoch 115: saving model to model/keypoint_classifier\\keypoint_classifier.hdf5\n",
      "29/29 [==============================] - 0s 3ms/step - loss: 0.5428 - accuracy: 0.7869 - val_loss: 0.2818 - val_accuracy: 0.9208\n",
      "Epoch 116/1000\n",
      " 1/29 [>.............................] - ETA: 0s - loss: 0.5636 - accuracy: 0.8047\n",
      "Epoch 116: saving model to model/keypoint_classifier\\keypoint_classifier.hdf5\n",
      "29/29 [==============================] - 0s 2ms/step - loss: 0.5388 - accuracy: 0.7860 - val_loss: 0.2754 - val_accuracy: 0.9249\n",
      "Epoch 117/1000\n",
      " 1/29 [>.............................] - ETA: 0s - loss: 0.5028 - accuracy: 0.7812\n",
      "Epoch 117: saving model to model/keypoint_classifier\\keypoint_classifier.hdf5\n",
      "29/29 [==============================] - 0s 2ms/step - loss: 0.5428 - accuracy: 0.7718 - val_loss: 0.2779 - val_accuracy: 0.9366\n",
      "Epoch 118/1000\n",
      " 1/29 [>.............................] - ETA: 0s - loss: 0.4956 - accuracy: 0.8359\n",
      "Epoch 118: saving model to model/keypoint_classifier\\keypoint_classifier.hdf5\n",
      "29/29 [==============================] - 0s 2ms/step - loss: 0.5521 - accuracy: 0.7855 - val_loss: 0.2820 - val_accuracy: 0.9249\n",
      "Epoch 119/1000\n",
      " 1/29 [>.............................] - ETA: 0s - loss: 0.5124 - accuracy: 0.7969\n",
      "Epoch 119: saving model to model/keypoint_classifier\\keypoint_classifier.hdf5\n",
      "29/29 [==============================] - 0s 2ms/step - loss: 0.5376 - accuracy: 0.7885 - val_loss: 0.2765 - val_accuracy: 0.9366\n",
      "Epoch 120/1000\n",
      " 1/29 [>.............................] - ETA: 0s - loss: 0.6459 - accuracy: 0.6953\n",
      "Epoch 120: saving model to model/keypoint_classifier\\keypoint_classifier.hdf5\n",
      "29/29 [==============================] - 0s 2ms/step - loss: 0.5509 - accuracy: 0.7730 - val_loss: 0.2730 - val_accuracy: 0.9291\n",
      "Epoch 121/1000\n",
      " 1/29 [>.............................] - ETA: 0s - loss: 0.5167 - accuracy: 0.7812\n",
      "Epoch 121: saving model to model/keypoint_classifier\\keypoint_classifier.hdf5\n",
      "29/29 [==============================] - 0s 2ms/step - loss: 0.5483 - accuracy: 0.7757 - val_loss: 0.2707 - val_accuracy: 0.9274\n",
      "Epoch 122/1000\n",
      " 1/29 [>.............................] - ETA: 0s - loss: 0.4696 - accuracy: 0.8359\n",
      "Epoch 122: saving model to model/keypoint_classifier\\keypoint_classifier.hdf5\n",
      "29/29 [==============================] - 0s 2ms/step - loss: 0.5362 - accuracy: 0.7852 - val_loss: 0.2698 - val_accuracy: 0.9258\n",
      "Epoch 123/1000\n",
      " 1/29 [>.............................] - ETA: 0s - loss: 0.6213 - accuracy: 0.7422\n",
      "Epoch 123: saving model to model/keypoint_classifier\\keypoint_classifier.hdf5\n",
      "29/29 [==============================] - 0s 2ms/step - loss: 0.5416 - accuracy: 0.7852 - val_loss: 0.2698 - val_accuracy: 0.9258\n",
      "Epoch 124/1000\n",
      " 1/29 [>.............................] - ETA: 0s - loss: 0.4388 - accuracy: 0.8203\n",
      "Epoch 124: saving model to model/keypoint_classifier\\keypoint_classifier.hdf5\n",
      "29/29 [==============================] - 0s 2ms/step - loss: 0.5543 - accuracy: 0.7763 - val_loss: 0.2706 - val_accuracy: 0.9291\n",
      "Epoch 125/1000\n",
      " 1/29 [>.............................] - ETA: 0s - loss: 0.5981 - accuracy: 0.7578\n",
      "Epoch 125: saving model to model/keypoint_classifier\\keypoint_classifier.hdf5\n",
      "29/29 [==============================] - 0s 3ms/step - loss: 0.5405 - accuracy: 0.7816 - val_loss: 0.2696 - val_accuracy: 0.9341\n",
      "Epoch 126/1000\n",
      " 1/29 [>.............................] - ETA: 0s - loss: 0.5141 - accuracy: 0.8203\n",
      "Epoch 126: saving model to model/keypoint_classifier\\keypoint_classifier.hdf5\n",
      "29/29 [==============================] - 0s 2ms/step - loss: 0.5520 - accuracy: 0.7810 - val_loss: 0.2689 - val_accuracy: 0.9283\n",
      "Epoch 127/1000\n",
      " 1/29 [>.............................] - ETA: 0s - loss: 0.6331 - accuracy: 0.8047\n",
      "Epoch 127: saving model to model/keypoint_classifier\\keypoint_classifier.hdf5\n",
      "29/29 [==============================] - 0s 3ms/step - loss: 0.5460 - accuracy: 0.7802 - val_loss: 0.2679 - val_accuracy: 0.9341\n",
      "Epoch 128/1000\n",
      " 1/29 [>.............................] - ETA: 0s - loss: 0.4990 - accuracy: 0.7656\n",
      "Epoch 128: saving model to model/keypoint_classifier\\keypoint_classifier.hdf5\n",
      "29/29 [==============================] - 0s 3ms/step - loss: 0.5485 - accuracy: 0.7760 - val_loss: 0.2808 - val_accuracy: 0.9316\n",
      "Epoch 129/1000\n",
      " 1/29 [>.............................] - ETA: 0s - loss: 0.5617 - accuracy: 0.7344\n",
      "Epoch 129: saving model to model/keypoint_classifier\\keypoint_classifier.hdf5\n",
      "29/29 [==============================] - 0s 2ms/step - loss: 0.5513 - accuracy: 0.7788 - val_loss: 0.2780 - val_accuracy: 0.9274\n",
      "Epoch 130/1000\n",
      " 1/29 [>.............................] - ETA: 0s - loss: 0.6185 - accuracy: 0.7188\n",
      "Epoch 130: saving model to model/keypoint_classifier\\keypoint_classifier.hdf5\n",
      "29/29 [==============================] - 0s 3ms/step - loss: 0.5574 - accuracy: 0.7721 - val_loss: 0.2732 - val_accuracy: 0.9349\n",
      "Epoch 131/1000\n",
      " 1/29 [>.............................] - ETA: 0s - loss: 0.5543 - accuracy: 0.7734\n",
      "Epoch 131: saving model to model/keypoint_classifier\\keypoint_classifier.hdf5\n",
      "29/29 [==============================] - 0s 3ms/step - loss: 0.5527 - accuracy: 0.7752 - val_loss: 0.2781 - val_accuracy: 0.9316\n",
      "Epoch 132/1000\n",
      " 1/29 [>.............................] - ETA: 0s - loss: 0.5495 - accuracy: 0.7734\n",
      "Epoch 132: saving model to model/keypoint_classifier\\keypoint_classifier.hdf5\n",
      "29/29 [==============================] - 0s 2ms/step - loss: 0.5423 - accuracy: 0.7802 - val_loss: 0.2764 - val_accuracy: 0.9349\n",
      "Epoch 133/1000\n",
      " 1/29 [>.............................] - ETA: 0s - loss: 0.6495 - accuracy: 0.7500\n",
      "Epoch 133: saving model to model/keypoint_classifier\\keypoint_classifier.hdf5\n",
      "29/29 [==============================] - 0s 2ms/step - loss: 0.5444 - accuracy: 0.7785 - val_loss: 0.2717 - val_accuracy: 0.9333\n",
      "Epoch 134/1000\n",
      " 1/29 [>.............................] - ETA: 0s - loss: 0.5926 - accuracy: 0.7031\n",
      "Epoch 134: saving model to model/keypoint_classifier\\keypoint_classifier.hdf5\n",
      "29/29 [==============================] - 0s 3ms/step - loss: 0.5560 - accuracy: 0.7705 - val_loss: 0.2706 - val_accuracy: 0.9366\n",
      "Epoch 135/1000\n",
      " 1/29 [>.............................] - ETA: 0s - loss: 0.5039 - accuracy: 0.8125\n",
      "Epoch 135: saving model to model/keypoint_classifier\\keypoint_classifier.hdf5\n",
      "29/29 [==============================] - 0s 3ms/step - loss: 0.5277 - accuracy: 0.7860 - val_loss: 0.2689 - val_accuracy: 0.9349\n",
      "Epoch 136/1000\n",
      " 1/29 [>.............................] - ETA: 0s - loss: 0.4499 - accuracy: 0.8281\n",
      "Epoch 136: saving model to model/keypoint_classifier\\keypoint_classifier.hdf5\n",
      "29/29 [==============================] - 0s 2ms/step - loss: 0.5408 - accuracy: 0.7821 - val_loss: 0.2778 - val_accuracy: 0.9291\n",
      "Epoch 137/1000\n",
      " 1/29 [>.............................] - ETA: 0s - loss: 0.5344 - accuracy: 0.7656\n",
      "Epoch 137: saving model to model/keypoint_classifier\\keypoint_classifier.hdf5\n",
      "29/29 [==============================] - 0s 2ms/step - loss: 0.5319 - accuracy: 0.7880 - val_loss: 0.2725 - val_accuracy: 0.9308\n",
      "Epoch 138/1000\n",
      " 1/29 [>.............................] - ETA: 0s - loss: 0.4539 - accuracy: 0.8047\n",
      "Epoch 138: saving model to model/keypoint_classifier\\keypoint_classifier.hdf5\n",
      "29/29 [==============================] - 0s 3ms/step - loss: 0.5375 - accuracy: 0.7796 - val_loss: 0.2703 - val_accuracy: 0.9349\n",
      "Epoch 139/1000\n",
      " 1/29 [>.............................] - ETA: 0s - loss: 0.4985 - accuracy: 0.8281\n",
      "Epoch 139: saving model to model/keypoint_classifier\\keypoint_classifier.hdf5\n",
      "29/29 [==============================] - 0s 3ms/step - loss: 0.5270 - accuracy: 0.7885 - val_loss: 0.2749 - val_accuracy: 0.9283\n"
     ]
    },
    {
     "name": "stdout",
     "output_type": "stream",
     "text": [
      "Epoch 140/1000\n",
      " 1/29 [>.............................] - ETA: 0s - loss: 0.4684 - accuracy: 0.8516\n",
      "Epoch 140: saving model to model/keypoint_classifier\\keypoint_classifier.hdf5\n",
      "29/29 [==============================] - 0s 3ms/step - loss: 0.5390 - accuracy: 0.7819 - val_loss: 0.2779 - val_accuracy: 0.9291\n",
      "Epoch 141/1000\n",
      " 1/29 [>.............................] - ETA: 0s - loss: 0.5128 - accuracy: 0.8203\n",
      "Epoch 141: saving model to model/keypoint_classifier\\keypoint_classifier.hdf5\n",
      "29/29 [==============================] - 0s 3ms/step - loss: 0.5365 - accuracy: 0.7841 - val_loss: 0.2712 - val_accuracy: 0.9291\n",
      "Epoch 142/1000\n",
      " 1/29 [>.............................] - ETA: 0s - loss: 0.5573 - accuracy: 0.7266\n",
      "Epoch 142: saving model to model/keypoint_classifier\\keypoint_classifier.hdf5\n",
      "29/29 [==============================] - 0s 3ms/step - loss: 0.5522 - accuracy: 0.7727 - val_loss: 0.2762 - val_accuracy: 0.9233\n",
      "Epoch 143/1000\n",
      " 1/29 [>.............................] - ETA: 0s - loss: 0.4756 - accuracy: 0.8047\n",
      "Epoch 143: saving model to model/keypoint_classifier\\keypoint_classifier.hdf5\n",
      "29/29 [==============================] - 0s 3ms/step - loss: 0.5169 - accuracy: 0.7908 - val_loss: 0.2701 - val_accuracy: 0.9308\n",
      "Epoch 144/1000\n",
      " 1/29 [>.............................] - ETA: 0s - loss: 0.5269 - accuracy: 0.7500\n",
      "Epoch 144: saving model to model/keypoint_classifier\\keypoint_classifier.hdf5\n",
      "29/29 [==============================] - 0s 2ms/step - loss: 0.5220 - accuracy: 0.7835 - val_loss: 0.2748 - val_accuracy: 0.9266\n",
      "Epoch 145/1000\n",
      " 1/29 [>.............................] - ETA: 0s - loss: 0.6132 - accuracy: 0.7266\n",
      "Epoch 145: saving model to model/keypoint_classifier\\keypoint_classifier.hdf5\n",
      "29/29 [==============================] - 0s 3ms/step - loss: 0.5441 - accuracy: 0.7752 - val_loss: 0.2768 - val_accuracy: 0.9349\n",
      "Epoch 146/1000\n",
      " 1/29 [>.............................] - ETA: 0s - loss: 0.5260 - accuracy: 0.7578\n",
      "Epoch 146: saving model to model/keypoint_classifier\\keypoint_classifier.hdf5\n",
      "29/29 [==============================] - 0s 2ms/step - loss: 0.5329 - accuracy: 0.7824 - val_loss: 0.2766 - val_accuracy: 0.9316\n",
      "Epoch 147/1000\n",
      " 1/29 [>.............................] - ETA: 0s - loss: 0.6261 - accuracy: 0.7500\n",
      "Epoch 147: saving model to model/keypoint_classifier\\keypoint_classifier.hdf5\n",
      "29/29 [==============================] - 0s 3ms/step - loss: 0.5287 - accuracy: 0.7885 - val_loss: 0.2734 - val_accuracy: 0.9341\n",
      "Epoch 147: early stopping\n"
     ]
    },
    {
     "data": {
      "text/plain": [
       "<keras.src.callbacks.History at 0x19ac593a7a0>"
      ]
     },
     "execution_count": 154,
     "metadata": {},
     "output_type": "execute_result"
    }
   ],
   "source": [
    "model.fit(\n",
    "    X_train,\n",
    "    y_train,\n",
    "    epochs=1000,\n",
    "    batch_size=128,\n",
    "    validation_data=(X_test, y_test),\n",
    "    callbacks=[cp_callback, es_callback]\n",
    ")"
   ]
  },
  {
   "cell_type": "code",
   "execution_count": 155,
   "metadata": {
    "colab": {
     "base_uri": "https://localhost:8080/"
    },
    "id": "pxvb2Y299hE3",
    "outputId": "59eb3185-2e37-4b9e-bc9d-ab1b8ac29b7f"
   },
   "outputs": [
    {
     "name": "stdout",
     "output_type": "stream",
     "text": [
      "10/10 [==============================] - 0s 1ms/step - loss: 0.2734 - accuracy: 0.9341\n"
     ]
    }
   ],
   "source": [
    "# Model evaluation\n",
    "val_loss, val_acc = model.evaluate(X_test, y_test, batch_size=128)"
   ]
  },
  {
   "cell_type": "code",
   "execution_count": 156,
   "metadata": {
    "id": "RBkmDeUW9hE4"
   },
   "outputs": [],
   "source": [
    "# Loading the saved model\n",
    "model = tf.keras.models.load_model(model_save_path)"
   ]
  },
  {
   "cell_type": "code",
   "execution_count": 157,
   "metadata": {
    "colab": {
     "base_uri": "https://localhost:8080/"
    },
    "id": "tFz9Tb0I9hE4",
    "outputId": "1c3b3528-54ae-4ee2-ab04-77429211cbef"
   },
   "outputs": [
    {
     "name": "stdout",
     "output_type": "stream",
     "text": [
      "1/1 [==============================] - 0s 40ms/step\n",
      "[0.92636794 0.0542957  0.01499109 0.00434527]\n",
      "0\n"
     ]
    }
   ],
   "source": [
    "# Inference test\n",
    "predict_result = model.predict(np.array([X_test[0]]))\n",
    "print(np.squeeze(predict_result))\n",
    "print(np.argmax(np.squeeze(predict_result)))"
   ]
  },
  {
   "cell_type": "markdown",
   "metadata": {
    "id": "S3U4yNWx9hE4"
   },
   "source": [
    "# Confusion matrix"
   ]
  },
  {
   "cell_type": "code",
   "execution_count": 158,
   "metadata": {
    "colab": {
     "base_uri": "https://localhost:8080/",
     "height": 582
    },
    "id": "AP1V6SCk9hE5",
    "outputId": "08e41a80-7a4a-4619-8125-ecc371368d19"
   },
   "outputs": [
    {
     "name": "stdout",
     "output_type": "stream",
     "text": [
      "38/38 [==============================] - 0s 687us/step\n"
     ]
    },
    {
     "data": {
      "image/png": "[encoded data removed]",
      "text/plain": [
       "<Figure size 700x600 with 2 Axes>"
      ]
     },
     "metadata": {},
     "output_type": "display_data"
    },
    {
     "name": "stdout",
     "output_type": "stream",
     "text": [
      "Classification Report\n",
      "              precision    recall  f1-score   support\n",
      "\n",
      "           0       0.97      0.96      0.97       403\n",
      "           1       0.92      0.91      0.92       370\n",
      "           2       0.96      0.98      0.97       267\n",
      "           3       0.82      0.85      0.84       159\n",
      "\n",
      "    accuracy                           0.93      1199\n",
      "   macro avg       0.92      0.92      0.92      1199\n",
      "weighted avg       0.93      0.93      0.93      1199\n",
      "\n"
     ]
    }
   ],
   "source": [
    "import pandas as pd\n",
    "import seaborn as sns\n",
    "import matplotlib.pyplot as plt\n",
    "from sklearn.metrics import confusion_matrix, classification_report\n",
    "\n",
    "def print_confusion_matrix(y_true, y_pred, report=True):\n",
    "    labels = sorted(list(set(y_true)))\n",
    "    cmx_data = confusion_matrix(y_true, y_pred, labels=labels)\n",
    "    \n",
    "    df_cmx = pd.DataFrame(cmx_data, index=labels, columns=labels)\n",
    " \n",
    "    fig, ax = plt.subplots(figsize=(7, 6))\n",
    "    sns.heatmap(df_cmx, annot=True, fmt='g' ,square=False)\n",
    "    ax.set_ylim(len(set(y_true)), 0)\n",
    "    plt.show()\n",
    "    \n",
    "    if report:\n",
    "        print('Classification Report')\n",
    "        print(classification_report(y_test, y_pred))\n",
    "\n",
    "Y_pred = model.predict(X_test)\n",
    "y_pred = np.argmax(Y_pred, axis=1)\n",
    "\n",
    "print_confusion_matrix(y_test, y_pred)"
   ]
  },
  {
   "cell_type": "markdown",
   "metadata": {
    "id": "FNP6aqzc9hE5"
   },
   "source": [
    "# Convert to model for Tensorflow-Lite"
   ]
  },
  {
   "cell_type": "code",
   "execution_count": 159,
   "metadata": {
    "id": "ODjnYyld9hE6"
   },
   "outputs": [
    {
     "name": "stderr",
     "output_type": "stream",
     "text": [
      "C:\\Users\\91823\\anaconda3\\lib\\site-packages\\keras\\src\\engine\\training.py:3000: UserWarning: You are saving your model as an HDF5 file via `model.save()`. This file format is considered legacy. We recommend using instead the native Keras format, e.g. `model.save('my_model.keras')`.\n",
      "  saving_api.save_model(\n"
     ]
    }
   ],
   "source": [
    "# Save as a model dedicated to inference\n",
    "model.save(model_save_path, include_optimizer=False)"
   ]
  },
  {
   "cell_type": "code",
   "execution_count": 160,
   "metadata": {
    "colab": {
     "base_uri": "https://localhost:8080/"
    },
    "id": "zRfuK8Y59hE6",
    "outputId": "a4ca585c-b5d5-4244-8291-8674063209bb"
   },
   "outputs": [
    {
     "name": "stdout",
     "output_type": "stream",
     "text": [
      "INFO:tensorflow:Assets written to: C:\\Users\\91823\\AppData\\Local\\Temp\\tmpzxgcbxgb\\assets\n"
     ]
    },
    {
     "name": "stderr",
     "output_type": "stream",
     "text": [
      "INFO:tensorflow:Assets written to: C:\\Users\\91823\\AppData\\Local\\Temp\\tmpzxgcbxgb\\assets\n"
     ]
    },
    {
     "data": {
      "text/plain": [
       "6608"
      ]
     },
     "execution_count": 160,
     "metadata": {},
     "output_type": "execute_result"
    }
   ],
   "source": [
    "# Transform model (quantization)\n",
    "\n",
    "converter = tf.lite.TFLiteConverter.from_keras_model(model)\n",
    "converter.optimizations = [tf.lite.Optimize.DEFAULT]\n",
    "tflite_quantized_model = converter.convert()\n",
    "\n",
    "open(tflite_save_path, 'wb').write(tflite_quantized_model)"
   ]
  },
  {
   "cell_type": "markdown",
   "metadata": {
    "id": "CHBPBXdx9hE6"
   },
   "source": [
    "# Inference test"
   ]
  },
  {
   "cell_type": "code",
   "execution_count": 161,
   "metadata": {
    "id": "mGAzLocO9hE7"
   },
   "outputs": [],
   "source": [
    "interpreter = tf.lite.Interpreter(model_path=tflite_save_path)\n",
    "interpreter.allocate_tensors()"
   ]
  },
  {
   "cell_type": "code",
   "execution_count": 162,
   "metadata": {
    "id": "oQuDK8YS9hE7"
   },
   "outputs": [],
   "source": [
    "# Get I / O tensor\n",
    "input_details = interpreter.get_input_details()\n",
    "output_details = interpreter.get_output_details()"
   ]
  },
  {
   "cell_type": "code",
   "execution_count": 163,
   "metadata": {
    "id": "2_ixAf_l9hE7"
   },
   "outputs": [],
   "source": [
    "interpreter.set_tensor(input_details[0]['index'], np.array([X_test[0]]))"
   ]
  },
  {
   "cell_type": "code",
   "execution_count": 164,
   "metadata": {
    "colab": {
     "base_uri": "https://localhost:8080/"
    },
    "id": "s4FoAnuc9hE7",
    "outputId": "91f18257-8d8b-4ef3-c558-e9b5f94fabbf",
    "scrolled": true
   },
   "outputs": [
    {
     "name": "stdout",
     "output_type": "stream",
     "text": [
      "CPU times: total: 0 ns\n",
      "Wall time: 0 ns\n"
     ]
    }
   ],
   "source": [
    "%%time\n",
    "# Inference implementation\n",
    "interpreter.invoke()\n",
    "tflite_results = interpreter.get_tensor(output_details[0]['index'])"
   ]
  },
  {
   "cell_type": "code",
   "execution_count": 165,
   "metadata": {
    "colab": {
     "base_uri": "https://localhost:8080/"
    },
    "id": "vONjp19J9hE8",
    "outputId": "77205e24-fd00-42c4-f7b6-e06e527c2cba"
   },
   "outputs": [
    {
     "name": "stdout",
     "output_type": "stream",
     "text": [
      "[0.92636794 0.05429572 0.0149911  0.00434528]\n",
      "0\n"
     ]
    }
   ],
   "source": [
    "print(np.squeeze(tflite_results))\n",
    "print(np.argmax(np.squeeze(tflite_results)))"
   ]
  }
 ],
 "metadata": {
  "accelerator": "GPU",
  "colab": {
   "collapsed_sections": [],
   "name": "keypoint_classification_EN.ipynb",
   "provenance": [],
   "toc_visible": true
  },
  "kernelspec": {
   "display_name": "Python 3 (ipykernel)",
   "language": "python",
   "name": "python3"
  },
  "language_info": {
   "codemirror_mode": {
    "name": "ipython",
    "version": 3
   },
   "file_extension": ".py",
   "mimetype": "text/x-python",
   "name": "python",
   "nbconvert_exporter": "python",
   "pygments_lexer": "ipython3",
   "version": "3.10.9"
  }
 },
 "nbformat": 4,
 "nbformat_minor": 1
}
